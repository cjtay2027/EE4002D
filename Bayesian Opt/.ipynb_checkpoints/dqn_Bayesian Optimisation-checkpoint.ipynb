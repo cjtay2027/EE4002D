{
 "cells": [
  {
   "cell_type": "code",
   "execution_count": 10,
   "metadata": {},
   "outputs": [],
   "source": [
    "from bayes_opt import BayesianOptimization\n",
    "from bayes_opt import SequentialDomainReductionTransformer\n",
    "from bayes_opt import UtilityFunction\n",
    "from dqn_scripts import *"
   ]
  },
  {
   "cell_type": "code",
   "execution_count": 2,
   "metadata": {},
   "outputs": [],
   "source": [
    "def black_box_function(lr,gamma,eps_decay,update_freq):\n",
    "    trial+=1\n",
    "    \n",
    "    params = [lr,gamma,eps_decay,update_freq]\n",
    "    \n",
    "    results = evaluate_and_test(params,trial,None)\n",
    "    \n",
    "    score = np.mean(results[-500:])\n",
    "    \n",
    "    return score"
   ]
  },
  {
   "cell_type": "code",
   "execution_count": 7,
   "metadata": {},
   "outputs": [],
   "source": [
    "optimizer = BayesianOptimization(\n",
    "    f = None,\n",
    "    pbounds = {'lr':(1e-05,1e-01),'gamma':(0.8,0.99),'eps_decay':(1e-05,1e-01),'update_feq':(20,200)},\n",
    "    verbose = 2,\n",
    ")"
   ]
  },
  {
   "cell_type": "code",
   "execution_count": 9,
   "metadata": {},
   "outputs": [],
   "source": [
    "utility = UtilityFunction(kind=\"ei\",xi=0.005,kappa= 0)"
   ]
  },
  {
   "cell_type": "code",
   "execution_count": null,
   "metadata": {},
   "outputs": [],
   "source": [
    "trial = 0"
   ]
  },
  {
   "cell_type": "code",
   "execution_count": 7,
   "metadata": {},
   "outputs": [
    {
     "name": "stdout",
     "output_type": "stream",
     "text": [
      "|   iter    |  target   |     x     |     y     |\n",
      "-------------------------------------------------\n",
      "| \u001b[0m 11      \u001b[0m | \u001b[0m-7.392   \u001b[0m | \u001b[0m 2.794   \u001b[0m | \u001b[0m 0.2329  \u001b[0m |\n",
      "| \u001b[0m 12      \u001b[0m | \u001b[0m-7.069   \u001b[0m | \u001b[0m 2.838   \u001b[0m | \u001b[0m 1.111   \u001b[0m |\n",
      "| \u001b[95m 13      \u001b[0m | \u001b[95m-3.004   \u001b[0m | \u001b[95m 2.0     \u001b[0m | \u001b[95m 1.065   \u001b[0m |\n",
      "| \u001b[0m 14      \u001b[0m | \u001b[0m-3.02    \u001b[0m | \u001b[0m 2.0     \u001b[0m | \u001b[0m 0.8593  \u001b[0m |\n",
      "| \u001b[0m 15      \u001b[0m | \u001b[0m-3.045   \u001b[0m | \u001b[0m 2.0     \u001b[0m | \u001b[0m 1.211   \u001b[0m |\n",
      "=================================================\n"
     ]
    }
   ],
   "source": [
    "optimizer.maximize(\n",
    "    init_points=2,\n",
    "    n_iter=3,\n",
    ")"
   ]
  },
  {
   "cell_type": "code",
   "execution_count": 8,
   "metadata": {},
   "outputs": [
    {
     "name": "stdout",
     "output_type": "stream",
     "text": [
      "{'target': -3.004212946342097, 'params': {'x': 2.0, 'y': 1.0649072133286979}}\n"
     ]
    }
   ],
   "source": [
    "print(optimizer.max)"
   ]
  },
  {
   "cell_type": "code",
   "execution_count": 9,
   "metadata": {},
   "outputs": [
    {
     "name": "stdout",
     "output_type": "stream",
     "text": [
      "Iteration 0: \n",
      "\t{'target': -7.135455292718879, 'params': {'x': 2.8340440094051482, 'y': 1.3219469606529488}}\n",
      "Iteration 1: \n",
      "\t{'target': -7.779531005607566, 'params': {'x': 2.0002287496346898, 'y': -1.1860045642089614}}\n",
      "Iteration 2: \n",
      "\t{'target': -7.109925819441113, 'params': {'x': 2.2175526295255183, 'y': -0.7867249801593896}}\n",
      "Iteration 3: \n",
      "\t{'target': -12.397162416009818, 'params': {'x': 3.660003815774634, 'y': 0.9608275029525108}}\n",
      "Iteration 4: \n",
      "\t{'target': -6.999472814518675, 'params': {'x': 2.2303920156083024, 'y': -0.7392021938893159}}\n",
      "Iteration 5: \n",
      "\t{'target': -16.134894722612252, 'params': {'x': 2.2935117816342263, 'y': -2.445968431387213}}\n",
      "Iteration 6: \n",
      "\t{'target': -8.340778037007604, 'params': {'x': 2.3725204227553416, 'y': -0.9266356377417138}}\n",
      "Iteration 7: \n",
      "\t{'target': -3.188551285401644, 'params': {'x': 2.0012512046414717, 'y': 0.5715785937622844}}\n",
      "Iteration 8: \n",
      "\t{'target': -6.984714514036643, 'params': {'x': 2.0, 'y': 2.99617497079706}}\n",
      "Iteration 9: \n",
      "\t{'target': -3.3023336764620437, 'params': {'x': 2.0, 'y': 1.5498487759939485}}\n",
      "Iteration 10: \n",
      "\t{'target': -7.392279298427363, 'params': {'x': 2.79353494846134, 'y': 0.23290040402014167}}\n",
      "Iteration 11: \n",
      "\t{'target': -7.068843753868606, 'params': {'x': 2.8383890288065894, 'y': 1.1113170023805568}}\n",
      "Iteration 12: \n",
      "\t{'target': -3.004212946342097, 'params': {'x': 2.0, 'y': 1.0649072133286979}}\n",
      "Iteration 13: \n",
      "\t{'target': -3.019801009588993, 'params': {'x': 2.0, 'y': 0.8592839398327519}}\n",
      "Iteration 14: \n",
      "\t{'target': -3.044538292305073, 'params': {'x': 2.0, 'y': 1.211040973048062}}\n"
     ]
    }
   ],
   "source": [
    "for i, res in enumerate(optimizer.res):\n",
    "    print(\"Iteration {}: \\n\\t{}\".format(i, res))"
   ]
  },
  {
   "cell_type": "code",
   "execution_count": 11,
   "metadata": {},
   "outputs": [
    {
     "name": "stdout",
     "output_type": "stream",
     "text": [
      "|   iter    |  target   |     x     |     y     |\n",
      "-------------------------------------------------\n",
      "| \u001b[0m 16      \u001b[0m | \u001b[0m-6.412   \u001b[0m | \u001b[0m 2.409   \u001b[0m | \u001b[0m 2.269   \u001b[0m |\n",
      "| \u001b[0m 17      \u001b[0m | \u001b[0m-3.223   \u001b[0m | \u001b[0m 2.055   \u001b[0m | \u001b[0m 1.023   \u001b[0m |\n",
      "| \u001b[95m 18      \u001b[0m | \u001b[95m-3.0     \u001b[0m | \u001b[95m 2.0     \u001b[0m | \u001b[95m 0.9943  \u001b[0m |\n",
      "| \u001b[0m 19      \u001b[0m | \u001b[0m-3.01    \u001b[0m | \u001b[0m 2.002   \u001b[0m | \u001b[0m 1.009   \u001b[0m |\n",
      "| \u001b[0m 20      \u001b[0m | \u001b[0m-3.0     \u001b[0m | \u001b[0m 2.0     \u001b[0m | \u001b[0m 1.016   \u001b[0m |\n",
      "=================================================\n"
     ]
    }
   ],
   "source": [
    "optimizer.maximize(\n",
    "    init_points=2,\n",
    "    n_iter=3,\n",
    "    kernel = RBF(1.0)\n",
    ")"
   ]
  },
  {
   "cell_type": "code",
   "execution_count": null,
   "metadata": {},
   "outputs": [],
   "source": []
  }
 ],
 "metadata": {
  "kernelspec": {
   "display_name": "Python 3",
   "language": "python",
   "name": "python3"
  },
  "language_info": {
   "codemirror_mode": {
    "name": "ipython",
    "version": 3
   },
   "file_extension": ".py",
   "mimetype": "text/x-python",
   "name": "python",
   "nbconvert_exporter": "python",
   "pygments_lexer": "ipython3",
   "version": "3.8.5"
  }
 },
 "nbformat": 4,
 "nbformat_minor": 4
}
