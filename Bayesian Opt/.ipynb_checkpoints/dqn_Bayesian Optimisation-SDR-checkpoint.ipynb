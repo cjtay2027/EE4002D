{
 "cells": [
  {
   "cell_type": "code",
   "execution_count": 1,
   "metadata": {},
   "outputs": [],
   "source": [
    "from bayes_opt import BayesianOptimization\n",
    "from bayes_opt import SequentialDomainReductionTransformer\n",
    "from bayes_opt import UtilityFunction\n",
    "from dqn_scripts import *\n",
    "from bayes_opt import SequentialDomainReductionTransformer"
   ]
  },
  {
   "cell_type": "code",
   "execution_count": 2,
   "metadata": {},
   "outputs": [],
   "source": [
    "trial = 0"
   ]
  },
  {
   "cell_type": "code",
   "execution_count": 14,
   "metadata": {},
   "outputs": [],
   "source": [
    "def evaluate_and_test(params,trial_number,folder): #trial function that trains and stores results into array\n",
    "    \n",
    "    max_episodes = 20000\n",
    "    \n",
    "    #Train Env\n",
    "    machine = Machine()\n",
    "    machine.curr_state = 0\n",
    "    env = MachineEnv(machine)\n",
    "\n",
    "    #Eval Env\n",
    "    machine2 = Machine()\n",
    "    machine2.curr_state = 0\n",
    "    env2 = MachineEnv(machine2)\n",
    "\n",
    "    online_net = DoubleDQNet(4, 2)\n",
    "    target_net = DoubleDQNet(4, 2)\n",
    "    update_target_model(online_net, target_net)\n",
    "    \n",
    "    optimizer = optim.Adam(online_net.parameters(), lr=params[0])\n",
    "    online_net.train()\n",
    "    target_net.train()\n",
    "    memory = Memory(10000)\n",
    "    \n",
    "    #start_time = datetime.now().replace(microsecond=0)\n",
    "\n",
    "    running_score = 0\n",
    "    epsilon = 1.0\n",
    "    steps = 0\n",
    "    loss = 0\n",
    "    initial_exploration = 1000\n",
    "    log_interval = 10\n",
    "    \n",
    "    tracker = [[0,0]]\n",
    "    loss_arr = []\n",
    "    max_average = 0\n",
    "    \n",
    "    for e in range(max_episodes):\n",
    "        done = False\n",
    "\n",
    "        score = 0\n",
    "        state = env.reset()\n",
    "        state = torch.Tensor(state)\n",
    "        state = state.unsqueeze(0)\n",
    "        while not done:\n",
    "            steps += 1\n",
    "            action = get_action(state, target_net, epsilon, env)\n",
    "            next_state, reward, done, _ = env.step(action)\n",
    "\n",
    "            next_state = torch.Tensor(next_state)\n",
    "            next_state = next_state.unsqueeze(0)\n",
    "\n",
    "            mask = 0 if done else 1\n",
    "            #reward = reward if not done or score == 499 else -1\n",
    "            action_one_hot = np.zeros(2)\n",
    "            action_one_hot[action] = 1\n",
    "            memory.push(state, next_state, action_one_hot, reward, mask)\n",
    "\n",
    "            score += reward\n",
    "            state = next_state\n",
    "\n",
    "            if steps > initial_exploration:\n",
    "                epsilon -= params[2]\n",
    "                epsilon = max(epsilon, 0.1)\n",
    "\n",
    "                batch = memory.sample(64)\n",
    "                loss = DoubleDQNet.train_model(online_net, target_net, optimizer, batch,params[1])\n",
    "                loss_arr.append(loss)\n",
    "                \n",
    "                if steps % params[3] == 0:\n",
    "                    update_target_model(online_net, target_net)\n",
    "\n",
    "        if e % log_interval == 0:\n",
    "            if e == 0: continue\n",
    "            eval_score = compute_avg_return(env2,online_net,20)\n",
    "##            print('{} episode | Ave val score over 20 ep: {:.2f} | epsilon: {:.2f}'.format(\n",
    "##                e, eval_score, epsilon))\n",
    "            tracker.append([eval_score,e])\n",
    "            \n",
    "            move_ave_score = np.mean(np.array(tracker)[-50:,0])\n",
    "##            if max_average < move_ave_score:\n",
    "##                torch.save(online_net,f'{folder}/trial_{trial_number}_dqn_agent_.pt')\n",
    "##                max_average = move_ave_score\n",
    "\n",
    "##    np.savetxt(f'{folder}/trial_{trial_number}_loss.txt', loss_arr, delimiter=',',fmt='%s')\n",
    "##    np.savetxt(f'{folder}/trial_{trial_number}.txt', tracker, delimiter=',',fmt='%s')\n",
    "##    torch.save(online_net,f'{folder}/final_trial_{trial_number}_dqn_agent.pt')\n",
    "    \n",
    "    return (np.array(tracker),online_net)"
   ]
  },
  {
   "cell_type": "code",
   "execution_count": 15,
   "metadata": {},
   "outputs": [],
   "source": [
    "def black_box_function(lr,gamma,eps_decay,update_freq):\n",
    "    global trial\n",
    "    trial+=1\n",
    "    \n",
    "    params = [lr,gamma,eps_decay,update_freq]\n",
    "    \n",
    "    results,policy = evaluate_and_test(params,trial,None)\n",
    "    \n",
    "#     score = np.mean(results[-500:])\n",
    "    \n",
    "    machine = Machine()\n",
    "    machine.curr_state = 0\n",
    "    env = MachineEnv(machine)\n",
    "    \n",
    "    score = compute_avg_return(env, policy, 10)\n",
    "    \n",
    "    return score"
   ]
  },
  {
   "cell_type": "code",
   "execution_count": 16,
   "metadata": {},
   "outputs": [],
   "source": [
    "optimizer = BayesianOptimization(\n",
    "    f = black_box_function,\n",
    "    pbounds = {'lr':(1e-05,1e-01),'gamma':(0.8,0.99),'eps_decay':(1e-05,1e-01),'update_freq':(20,200)},\n",
    "    verbose = 2,\n",
    ")\n"
   ]
  },
  {
   "cell_type": "code",
   "execution_count": null,
   "metadata": {},
   "outputs": [
    {
     "name": "stdout",
     "output_type": "stream",
     "text": [
      "|   iter    |  target   | eps_decay |   gamma   |    lr     | update... |\n",
      "-------------------------------------------------------------------------\n",
      "| \u001b[0m 1       \u001b[0m | \u001b[0m 5.09e+03\u001b[0m | \u001b[0m 0.09498 \u001b[0m | \u001b[0m 0.9377  \u001b[0m | \u001b[0m 0.07406 \u001b[0m | \u001b[0m 113.9   \u001b[0m |\n",
      "| \u001b[0m 2       \u001b[0m | \u001b[0m 2.9e+03 \u001b[0m | \u001b[0m 0.08893 \u001b[0m | \u001b[0m 0.9051  \u001b[0m | \u001b[0m 0.05214 \u001b[0m | \u001b[0m 65.62   \u001b[0m |\n",
      "| \u001b[95m 3       \u001b[0m | \u001b[95m 8.1e+03 \u001b[0m | \u001b[95m 0.03468 \u001b[0m | \u001b[95m 0.93    \u001b[0m | \u001b[95m 0.05558 \u001b[0m | \u001b[95m 148.0   \u001b[0m |\n",
      "| \u001b[0m 4       \u001b[0m | \u001b[0m 4.87e+03\u001b[0m | \u001b[0m 0.02486 \u001b[0m | \u001b[0m 0.9077  \u001b[0m | \u001b[0m 0.07337 \u001b[0m | \u001b[0m 143.3   \u001b[0m |\n"
     ]
    }
   ],
   "source": [
    "optimizer.maximize(n_iter = 20,  init_points=5, xi=0.005 )"
   ]
  },
  {
   "cell_type": "code",
   "execution_count": null,
   "metadata": {},
   "outputs": [],
   "source": [
    "from bayes_opt.logger import JSONLogger\n",
    "from bayes_opt.event import Events\n",
    "logger = JSONLogger(path=\"./logs.json\")\n",
    "optimizer.subscribe(Events.OPTIMIZATION_STEP, logger)"
   ]
  },
  {
   "cell_type": "code",
   "execution_count": null,
   "metadata": {},
   "outputs": [],
   "source": [
    "utility = UtilityFunction(kind=\"ei\",kappa= 0,xi=0)"
   ]
  },
  {
   "cell_type": "code",
   "execution_count": null,
   "metadata": {},
   "outputs": [],
   "source": [
    "for _ in range(10):\n",
    "    next_point = optimizer.suggest(utility)\n",
    "    target = black_box_function(**next_point)\n",
    "    optimizer.register(params=next_point, target=target)\n",
    "    \n",
    "    print(target, next_point)\n",
    "print(optimizer.max)"
   ]
  },
  {
   "cell_type": "code",
   "execution_count": null,
   "metadata": {},
   "outputs": [],
   "source": [
    "print(optimizer.max)"
   ]
  },
  {
   "cell_type": "code",
   "execution_count": null,
   "metadata": {},
   "outputs": [],
   "source": [
    "for i, res in enumerate(optimizer.res):\n",
    "    print(\"Iteration {}: \\n\\t{}\".format(i, res))"
   ]
  },
  {
   "cell_type": "code",
   "execution_count": null,
   "metadata": {},
   "outputs": [],
   "source": [
    "optimizer.maximize(\n",
    "    init_points=2,\n",
    "    n_iter=3,\n",
    "    kernel = RBF(1.0)\n",
    ")"
   ]
  },
  {
   "cell_type": "code",
   "execution_count": null,
   "metadata": {},
   "outputs": [],
   "source": []
  }
 ],
 "metadata": {
  "kernelspec": {
   "display_name": "Python 3",
   "language": "python",
   "name": "python3"
  },
  "language_info": {
   "codemirror_mode": {
    "name": "ipython",
    "version": 3
   },
   "file_extension": ".py",
   "mimetype": "text/x-python",
   "name": "python",
   "nbconvert_exporter": "python",
   "pygments_lexer": "ipython3",
   "version": "3.8.5"
  }
 },
 "nbformat": 4,
 "nbformat_minor": 4
}
