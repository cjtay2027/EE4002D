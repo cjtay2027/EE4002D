{
 "cells": [
  {
   "cell_type": "code",
   "execution_count": 16,
   "metadata": {},
   "outputs": [],
   "source": [
    "from bayes_opt import BayesianOptimization\n",
    "from bayes_opt import SequentialDomainReductionTransformer\n",
    "from bayes_opt import UtilityFunction\n",
    "from dqn_scripts import *\n",
    "from bayes_opt import SequentialDomainReductionTransformer\n",
    "import pandas as pd\n",
    "import numpy as np"
   ]
  },
  {
   "cell_type": "code",
   "execution_count": 35,
   "metadata": {},
   "outputs": [],
   "source": [
    "trial = 0\n",
    "bounds_transformer = SequentialDomainReductionTransformer()"
   ]
  },
  {
   "cell_type": "code",
   "execution_count": 36,
   "metadata": {},
   "outputs": [],
   "source": [
    "def evaluate_and_test(params,trial_number,folder): #trial function that trains and stores results into array\n",
    "    \n",
    "    max_episodes = 20000\n",
    "    \n",
    "    #Train Env\n",
    "    machine = Machine()\n",
    "    machine.curr_state = 0\n",
    "    env = MachineEnv(machine)\n",
    "\n",
    "    #Eval Env\n",
    "    machine2 = Machine()\n",
    "    machine2.curr_state = 0\n",
    "    env2 = MachineEnv(machine2)\n",
    "\n",
    "    online_net = DoubleDQNet(4, 2)\n",
    "    target_net = DoubleDQNet(4, 2)\n",
    "    update_target_model(online_net, target_net)\n",
    "    \n",
    "    optimizer = optim.Adam(online_net.parameters(), lr=params[0])\n",
    "    online_net.train()\n",
    "    target_net.train()\n",
    "    memory = Memory(10000)\n",
    "    \n",
    "    #start_time = datetime.now().replace(microsecond=0)\n",
    "\n",
    "    running_score = 0\n",
    "    epsilon = 1.0\n",
    "    steps = 0\n",
    "    loss = 0\n",
    "    initial_exploration = 1000\n",
    "    log_interval = 10\n",
    "    \n",
    "    tracker = [[0,0]]\n",
    "    loss_arr = []\n",
    "    max_average = 0\n",
    "    \n",
    "    for e in range(max_episodes):\n",
    "        done = False\n",
    "\n",
    "        score = 0\n",
    "        state = env.reset()\n",
    "        state = torch.Tensor(state)\n",
    "        state = state.unsqueeze(0)\n",
    "        while not done:\n",
    "            steps += 1\n",
    "            action = get_action(state, target_net, epsilon, env)\n",
    "            next_state, reward, done, _ = env.step(action)\n",
    "\n",
    "            next_state = torch.Tensor(next_state)\n",
    "            next_state = next_state.unsqueeze(0)\n",
    "\n",
    "            mask = 0 if done else 1\n",
    "            #reward = reward if not done or score == 499 else -1\n",
    "            action_one_hot = np.zeros(2)\n",
    "            action_one_hot[action] = 1\n",
    "            memory.push(state, next_state, action_one_hot, reward, mask)\n",
    "\n",
    "            score += reward\n",
    "            state = next_state\n",
    "\n",
    "            if steps > initial_exploration:\n",
    "                epsilon -= params[2]\n",
    "                epsilon = max(epsilon, 0.1)\n",
    "\n",
    "                batch = memory.sample(64)\n",
    "                loss = DoubleDQNet.train_model(online_net, target_net, optimizer, batch,params[1])\n",
    "                loss_arr.append(loss)\n",
    "                \n",
    "                if steps % params[3] == 0:\n",
    "                    update_target_model(online_net, target_net)\n",
    "\n",
    "        if e % log_interval == 0:\n",
    "            if e == 0: continue\n",
    "            eval_score = compute_avg_return(env2,online_net,20)\n",
    "##            print('{} episode | Ave val score over 20 ep: {:.2f} | epsilon: {:.2f}'.format(\n",
    "##                e, eval_score, epsilon))\n",
    "            tracker.append([eval_score,e])\n",
    "            \n",
    "            move_ave_score = np.mean(np.array(tracker)[-50:,0])\n",
    "##            if max_average < move_ave_score:\n",
    "##                torch.save(online_net,f'{folder}/trial_{trial_number}_dqn_agent_.pt')\n",
    "##                max_average = move_ave_score\n",
    "\n",
    "##    np.savetxt(f'{folder}/trial_{trial_number}_loss.txt', loss_arr, delimiter=',',fmt='%s')\n",
    "##    np.savetxt(f'{folder}/trial_{trial_number}.txt', tracker, delimiter=',',fmt='%s')\n",
    "##    torch.save(online_net,f'{folder}/final_trial_{trial_number}_dqn_agent.pt')\n",
    "    \n",
    "    return (np.array(tracker),online_net)"
   ]
  },
  {
   "cell_type": "code",
   "execution_count": 37,
   "metadata": {},
   "outputs": [],
   "source": [
    "def black_box_function(lr,gamma,eps_decay,update_freq):\n",
    "    global trial\n",
    "    trial+=1\n",
    "    \n",
    "    params = [lr,gamma,eps_decay,update_freq]\n",
    "    \n",
    "    results,policy = evaluate_and_test(params,trial,None)\n",
    "    \n",
    "#     score = np.mean(results[-500:])\n",
    "    \n",
    "    machine = Machine()\n",
    "    machine.curr_state = 0\n",
    "    env = MachineEnv(machine)\n",
    "    \n",
    "    score = compute_avg_return(env, policy, 10)\n",
    "    \n",
    "    return score"
   ]
  },
  {
   "cell_type": "code",
   "execution_count": 38,
   "metadata": {},
   "outputs": [],
   "source": [
    "optimizer = BayesianOptimization(\n",
    "    f=black_box_function,\n",
    "    pbounds={'lr':(1e-05,1e-01),'gamma':(0.8,0.99),'eps_decay':(1e-05,1e-01),'update_freq':(20,200)},\n",
    "    verbose=2,\n",
    "    bounds_transformer=bounds_transformer,\n",
    "    \n",
    ")"
   ]
  },
  {
   "cell_type": "code",
   "execution_count": 39,
   "metadata": {},
   "outputs": [
    {
     "name": "stdout",
     "output_type": "stream",
     "text": [
      "        lr  gamma  epsilon_decay  update_freq    eval_1    eval_2    eval_3  \\\n",
      "0   0.0001   0.80        0.00001           50   8553.47   8430.58   8557.45   \n",
      "1   0.0001   0.90        0.00010          100   9943.89  10161.06  10096.69   \n",
      "2   0.0001   0.95        0.00100          150  26629.87  26718.36  26542.90   \n",
      "3   0.0001   0.99        0.01000          200  20395.44  20582.21  20647.40   \n",
      "4   0.0010   0.80        0.00010          150   9594.16   9630.14   9724.68   \n",
      "5   0.0010   0.90        0.00001          200  12295.69  12231.72  12132.94   \n",
      "6   0.0010   0.95        0.01000           50  10901.19  11059.34  10754.28   \n",
      "7   0.0010   0.99        0.00100          100  22684.04  22325.43  23005.05   \n",
      "8   0.0100   0.80        0.00100          200   9921.31   9911.23  10026.68   \n",
      "9   0.0100   0.90        0.01000          150  16542.93  16691.26  16832.08   \n",
      "10  0.0100   0.95        0.00001          100  12840.08  12784.63  12666.42   \n",
      "11  0.0100   0.99        0.00010           50  24721.11  25115.22  25195.96   \n",
      "12  0.1000   0.80        0.01000          100  10528.58  10307.21  10527.92   \n",
      "13  0.1000   0.90        0.00100           50  18601.64  18438.52  18598.22   \n",
      "14  0.1000   0.95        0.00010          200  23734.30  23840.26  23846.90   \n",
      "15  0.1000   0.99        0.00001          150  26215.09  26095.69  26218.59   \n",
      "\n",
      "         average  \n",
      "0    8513.833333  \n",
      "1   10067.213333  \n",
      "2   26630.376667  \n",
      "3   20541.683333  \n",
      "4    9649.660000  \n",
      "5   12220.116667  \n",
      "6   10904.936667  \n",
      "7   22671.506667  \n",
      "8    9953.073333  \n",
      "9   16688.756667  \n",
      "10  12763.710000  \n",
      "11  25010.763333  \n",
      "12  10454.570000  \n",
      "13  18546.126667  \n",
      "14  23807.153333  \n",
      "15  26176.456667  \n"
     ]
    },
    {
     "data": {
      "text/plain": [
       "array([[1.00000000e-04, 8.00000000e-01, 1.00000000e-05, 5.00000000e+01,\n",
       "        8.55347000e+03, 8.43058000e+03, 8.55745000e+03, 8.51383333e+03],\n",
       "       [1.00000000e-04, 9.00000000e-01, 1.00000000e-04, 1.00000000e+02,\n",
       "        9.94389000e+03, 1.01610600e+04, 1.00966900e+04, 1.00672133e+04],\n",
       "       [1.00000000e-04, 9.50000000e-01, 1.00000000e-03, 1.50000000e+02,\n",
       "        2.66298700e+04, 2.67183600e+04, 2.65429000e+04, 2.66303767e+04],\n",
       "       [1.00000000e-04, 9.90000000e-01, 1.00000000e-02, 2.00000000e+02,\n",
       "        2.03954400e+04, 2.05822100e+04, 2.06474000e+04, 2.05416833e+04],\n",
       "       [1.00000000e-03, 8.00000000e-01, 1.00000000e-04, 1.50000000e+02,\n",
       "        9.59416000e+03, 9.63014000e+03, 9.72468000e+03, 9.64966000e+03],\n",
       "       [1.00000000e-03, 9.00000000e-01, 1.00000000e-05, 2.00000000e+02,\n",
       "        1.22956900e+04, 1.22317200e+04, 1.21329400e+04, 1.22201167e+04],\n",
       "       [1.00000000e-03, 9.50000000e-01, 1.00000000e-02, 5.00000000e+01,\n",
       "        1.09011900e+04, 1.10593400e+04, 1.07542800e+04, 1.09049367e+04],\n",
       "       [1.00000000e-03, 9.90000000e-01, 1.00000000e-03, 1.00000000e+02,\n",
       "        2.26840400e+04, 2.23254300e+04, 2.30050500e+04, 2.26715067e+04],\n",
       "       [1.00000000e-02, 8.00000000e-01, 1.00000000e-03, 2.00000000e+02,\n",
       "        9.92131000e+03, 9.91123000e+03, 1.00266800e+04, 9.95307333e+03],\n",
       "       [1.00000000e-02, 9.00000000e-01, 1.00000000e-02, 1.50000000e+02,\n",
       "        1.65429300e+04, 1.66912600e+04, 1.68320800e+04, 1.66887567e+04],\n",
       "       [1.00000000e-02, 9.50000000e-01, 1.00000000e-05, 1.00000000e+02,\n",
       "        1.28400800e+04, 1.27846300e+04, 1.26664200e+04, 1.27637100e+04],\n",
       "       [1.00000000e-02, 9.90000000e-01, 1.00000000e-04, 5.00000000e+01,\n",
       "        2.47211100e+04, 2.51152200e+04, 2.51959600e+04, 2.50107633e+04],\n",
       "       [1.00000000e-01, 8.00000000e-01, 1.00000000e-02, 1.00000000e+02,\n",
       "        1.05285800e+04, 1.03072100e+04, 1.05279200e+04, 1.04545700e+04],\n",
       "       [1.00000000e-01, 9.00000000e-01, 1.00000000e-03, 5.00000000e+01,\n",
       "        1.86016400e+04, 1.84385200e+04, 1.85982200e+04, 1.85461267e+04],\n",
       "       [1.00000000e-01, 9.50000000e-01, 1.00000000e-04, 2.00000000e+02,\n",
       "        2.37343000e+04, 2.38402600e+04, 2.38469000e+04, 2.38071533e+04],\n",
       "       [1.00000000e-01, 9.90000000e-01, 1.00000000e-05, 1.50000000e+02,\n",
       "        2.62150900e+04, 2.60956900e+04, 2.62185900e+04, 2.61764567e+04]])"
      ]
     },
     "execution_count": 39,
     "metadata": {},
     "output_type": "execute_result"
    }
   ],
   "source": [
    "df = pd.read_csv('results.csv')\n",
    "df.drop('Unnamed: 0',axis = 1,inplace=True)\n",
    "print(df)\n",
    "df_arr = df.to_numpy()\n",
    "df_arr"
   ]
  },
  {
   "cell_type": "code",
   "execution_count": 40,
   "metadata": {},
   "outputs": [],
   "source": [
    "for row in df_arr:\n",
    "    next_point_to_probe = {'lr':row[0],'gamma':row[1],'eps_decay':row[2],'update_freq':row[3]}\n",
    "    target = row[7]\n",
    "    optimizer.register(\n",
    "     params=next_point_to_probe,\n",
    "     target=target,\n",
    "    )"
   ]
  },
  {
   "cell_type": "code",
   "execution_count": 41,
   "metadata": {},
   "outputs": [
    {
     "name": "stdout",
     "output_type": "stream",
     "text": [
      "{(1e-05, 0.8, 0.0001, 50.0): 8513.833333333334, (0.0001, 0.9, 0.0001, 100.0): 10067.213333333333, (0.001, 0.95, 0.0001, 150.0): 26630.37666666667, (0.01, 0.99, 0.0001, 200.0): 20541.68333333333, (0.0001, 0.8, 0.001, 150.0): 9649.66, (1e-05, 0.9, 0.001, 200.0): 12220.116666666667, (0.01, 0.95, 0.001, 50.0): 10904.936666666666, (0.001, 0.99, 0.001, 100.0): 22671.50666666667, (0.001, 0.8, 0.01, 200.0): 9953.073333333334, (0.01, 0.9, 0.01, 150.0): 16688.756666666668, (1e-05, 0.95, 0.01, 100.0): 12763.71, (0.0001, 0.99, 0.01, 50.0): 25010.763333333336, (0.01, 0.8, 0.1, 100.0): 10454.57, (0.001, 0.9, 0.1, 50.0): 18546.126666666667, (0.0001, 0.95, 0.1, 200.0): 23807.153333333332, (1e-05, 0.99, 0.1, 150.0): 26176.456666666665}\n"
     ]
    }
   ],
   "source": [
    "print(optimizer._space._cache)"
   ]
  },
  {
   "cell_type": "code",
   "execution_count": 42,
   "metadata": {},
   "outputs": [],
   "source": [
    "from bayes_opt.logger import JSONLogger\n",
    "from bayes_opt.event import Events\n",
    "logger = JSONLogger(path=\"./logs_SDR.json\")\n",
    "optimizer.subscribe(Events.OPTIMIZATION_STEP, logger)"
   ]
  },
  {
   "cell_type": "code",
   "execution_count": 44,
   "metadata": {},
   "outputs": [
    {
     "ename": "KeyboardInterrupt",
     "evalue": "",
     "output_type": "error",
     "traceback": [
      "\u001b[1;31m---------------------------------------------------------------------------\u001b[0m",
      "\u001b[1;31mKeyError\u001b[0m                                  Traceback (most recent call last)",
      "\u001b[1;32m~\\anaconda3\\envs\\env1\\lib\\site-packages\\bayes_opt\\target_space.py\u001b[0m in \u001b[0;36mprobe\u001b[1;34m(self, params)\u001b[0m\n\u001b[0;32m    190\u001b[0m         \u001b[1;32mtry\u001b[0m\u001b[1;33m:\u001b[0m\u001b[1;33m\u001b[0m\u001b[1;33m\u001b[0m\u001b[0m\n\u001b[1;32m--> 191\u001b[1;33m             \u001b[0mtarget\u001b[0m \u001b[1;33m=\u001b[0m \u001b[0mself\u001b[0m\u001b[1;33m.\u001b[0m\u001b[0m_cache\u001b[0m\u001b[1;33m[\u001b[0m\u001b[0m_hashable\u001b[0m\u001b[1;33m(\u001b[0m\u001b[0mx\u001b[0m\u001b[1;33m)\u001b[0m\u001b[1;33m]\u001b[0m\u001b[1;33m\u001b[0m\u001b[1;33m\u001b[0m\u001b[0m\n\u001b[0m\u001b[0;32m    192\u001b[0m         \u001b[1;32mexcept\u001b[0m \u001b[0mKeyError\u001b[0m\u001b[1;33m:\u001b[0m\u001b[1;33m\u001b[0m\u001b[1;33m\u001b[0m\u001b[0m\n",
      "\u001b[1;31mKeyError\u001b[0m: (0.0041219297502280774, 0.9238095641418191, 0.006123221929829077, 116.31271726867176)",
      "\nDuring handling of the above exception, another exception occurred:\n",
      "\u001b[1;31mKeyboardInterrupt\u001b[0m                         Traceback (most recent call last)",
      "\u001b[1;32m<ipython-input-44-a29c9b693e28>\u001b[0m in \u001b[0;36m<module>\u001b[1;34m\u001b[0m\n\u001b[1;32m----> 1\u001b[1;33m \u001b[0moptimizer\u001b[0m\u001b[1;33m.\u001b[0m\u001b[0mmaximize\u001b[0m\u001b[1;33m(\u001b[0m\u001b[0mn_iter\u001b[0m \u001b[1;33m=\u001b[0m \u001b[1;36m20\u001b[0m\u001b[1;33m,\u001b[0m  \u001b[0minit_points\u001b[0m\u001b[1;33m=\u001b[0m\u001b[1;36m5\u001b[0m\u001b[1;33m,\u001b[0m \u001b[0macq\u001b[0m\u001b[1;33m=\u001b[0m\u001b[1;34m'ei'\u001b[0m\u001b[1;33m,\u001b[0m\u001b[0mxi\u001b[0m\u001b[1;33m=\u001b[0m\u001b[1;36m0.005\u001b[0m \u001b[1;33m)\u001b[0m\u001b[1;33m\u001b[0m\u001b[1;33m\u001b[0m\u001b[0m\n\u001b[0m",
      "\u001b[1;32m~\\anaconda3\\envs\\env1\\lib\\site-packages\\bayes_opt\\bayesian_optimization.py\u001b[0m in \u001b[0;36mmaximize\u001b[1;34m(self, init_points, n_iter, acq, kappa, kappa_decay, kappa_decay_delay, xi, **gp_params)\u001b[0m\n\u001b[0;32m    183\u001b[0m                 \u001b[0miteration\u001b[0m \u001b[1;33m+=\u001b[0m \u001b[1;36m1\u001b[0m\u001b[1;33m\u001b[0m\u001b[1;33m\u001b[0m\u001b[0m\n\u001b[0;32m    184\u001b[0m \u001b[1;33m\u001b[0m\u001b[0m\n\u001b[1;32m--> 185\u001b[1;33m             \u001b[0mself\u001b[0m\u001b[1;33m.\u001b[0m\u001b[0mprobe\u001b[0m\u001b[1;33m(\u001b[0m\u001b[0mx_probe\u001b[0m\u001b[1;33m,\u001b[0m \u001b[0mlazy\u001b[0m\u001b[1;33m=\u001b[0m\u001b[1;32mFalse\u001b[0m\u001b[1;33m)\u001b[0m\u001b[1;33m\u001b[0m\u001b[1;33m\u001b[0m\u001b[0m\n\u001b[0m\u001b[0;32m    186\u001b[0m \u001b[1;33m\u001b[0m\u001b[0m\n\u001b[0;32m    187\u001b[0m             \u001b[1;32mif\u001b[0m \u001b[0mself\u001b[0m\u001b[1;33m.\u001b[0m\u001b[0m_bounds_transformer\u001b[0m\u001b[1;33m:\u001b[0m\u001b[1;33m\u001b[0m\u001b[1;33m\u001b[0m\u001b[0m\n",
      "\u001b[1;32m~\\anaconda3\\envs\\env1\\lib\\site-packages\\bayes_opt\\bayesian_optimization.py\u001b[0m in \u001b[0;36mprobe\u001b[1;34m(self, params, lazy)\u001b[0m\n\u001b[0;32m    114\u001b[0m             \u001b[0mself\u001b[0m\u001b[1;33m.\u001b[0m\u001b[0m_queue\u001b[0m\u001b[1;33m.\u001b[0m\u001b[0madd\u001b[0m\u001b[1;33m(\u001b[0m\u001b[0mparams\u001b[0m\u001b[1;33m)\u001b[0m\u001b[1;33m\u001b[0m\u001b[1;33m\u001b[0m\u001b[0m\n\u001b[0;32m    115\u001b[0m         \u001b[1;32melse\u001b[0m\u001b[1;33m:\u001b[0m\u001b[1;33m\u001b[0m\u001b[1;33m\u001b[0m\u001b[0m\n\u001b[1;32m--> 116\u001b[1;33m             \u001b[0mself\u001b[0m\u001b[1;33m.\u001b[0m\u001b[0m_space\u001b[0m\u001b[1;33m.\u001b[0m\u001b[0mprobe\u001b[0m\u001b[1;33m(\u001b[0m\u001b[0mparams\u001b[0m\u001b[1;33m)\u001b[0m\u001b[1;33m\u001b[0m\u001b[1;33m\u001b[0m\u001b[0m\n\u001b[0m\u001b[0;32m    117\u001b[0m             \u001b[0mself\u001b[0m\u001b[1;33m.\u001b[0m\u001b[0mdispatch\u001b[0m\u001b[1;33m(\u001b[0m\u001b[0mEvents\u001b[0m\u001b[1;33m.\u001b[0m\u001b[0mOPTIMIZATION_STEP\u001b[0m\u001b[1;33m)\u001b[0m\u001b[1;33m\u001b[0m\u001b[1;33m\u001b[0m\u001b[0m\n\u001b[0;32m    118\u001b[0m \u001b[1;33m\u001b[0m\u001b[0m\n",
      "\u001b[1;32m~\\anaconda3\\envs\\env1\\lib\\site-packages\\bayes_opt\\target_space.py\u001b[0m in \u001b[0;36mprobe\u001b[1;34m(self, params)\u001b[0m\n\u001b[0;32m    192\u001b[0m         \u001b[1;32mexcept\u001b[0m \u001b[0mKeyError\u001b[0m\u001b[1;33m:\u001b[0m\u001b[1;33m\u001b[0m\u001b[1;33m\u001b[0m\u001b[0m\n\u001b[0;32m    193\u001b[0m             \u001b[0mparams\u001b[0m \u001b[1;33m=\u001b[0m \u001b[0mdict\u001b[0m\u001b[1;33m(\u001b[0m\u001b[0mzip\u001b[0m\u001b[1;33m(\u001b[0m\u001b[0mself\u001b[0m\u001b[1;33m.\u001b[0m\u001b[0m_keys\u001b[0m\u001b[1;33m,\u001b[0m \u001b[0mx\u001b[0m\u001b[1;33m)\u001b[0m\u001b[1;33m)\u001b[0m\u001b[1;33m\u001b[0m\u001b[1;33m\u001b[0m\u001b[0m\n\u001b[1;32m--> 194\u001b[1;33m             \u001b[0mtarget\u001b[0m \u001b[1;33m=\u001b[0m \u001b[0mself\u001b[0m\u001b[1;33m.\u001b[0m\u001b[0mtarget_func\u001b[0m\u001b[1;33m(\u001b[0m\u001b[1;33m**\u001b[0m\u001b[0mparams\u001b[0m\u001b[1;33m)\u001b[0m\u001b[1;33m\u001b[0m\u001b[1;33m\u001b[0m\u001b[0m\n\u001b[0m\u001b[0;32m    195\u001b[0m             \u001b[0mself\u001b[0m\u001b[1;33m.\u001b[0m\u001b[0mregister\u001b[0m\u001b[1;33m(\u001b[0m\u001b[0mx\u001b[0m\u001b[1;33m,\u001b[0m \u001b[0mtarget\u001b[0m\u001b[1;33m)\u001b[0m\u001b[1;33m\u001b[0m\u001b[1;33m\u001b[0m\u001b[0m\n\u001b[0;32m    196\u001b[0m         \u001b[1;32mreturn\u001b[0m \u001b[0mtarget\u001b[0m\u001b[1;33m\u001b[0m\u001b[1;33m\u001b[0m\u001b[0m\n",
      "\u001b[1;32m<ipython-input-37-649d85326726>\u001b[0m in \u001b[0;36mblack_box_function\u001b[1;34m(lr, gamma, eps_decay, update_freq)\u001b[0m\n\u001b[0;32m      5\u001b[0m     \u001b[0mparams\u001b[0m \u001b[1;33m=\u001b[0m \u001b[1;33m[\u001b[0m\u001b[0mlr\u001b[0m\u001b[1;33m,\u001b[0m\u001b[0mgamma\u001b[0m\u001b[1;33m,\u001b[0m\u001b[0meps_decay\u001b[0m\u001b[1;33m,\u001b[0m\u001b[0mupdate_freq\u001b[0m\u001b[1;33m]\u001b[0m\u001b[1;33m\u001b[0m\u001b[1;33m\u001b[0m\u001b[0m\n\u001b[0;32m      6\u001b[0m \u001b[1;33m\u001b[0m\u001b[0m\n\u001b[1;32m----> 7\u001b[1;33m     \u001b[0mresults\u001b[0m\u001b[1;33m,\u001b[0m\u001b[0mpolicy\u001b[0m \u001b[1;33m=\u001b[0m \u001b[0mevaluate_and_test\u001b[0m\u001b[1;33m(\u001b[0m\u001b[0mparams\u001b[0m\u001b[1;33m,\u001b[0m\u001b[0mtrial\u001b[0m\u001b[1;33m,\u001b[0m\u001b[1;32mNone\u001b[0m\u001b[1;33m)\u001b[0m\u001b[1;33m\u001b[0m\u001b[1;33m\u001b[0m\u001b[0m\n\u001b[0m\u001b[0;32m      8\u001b[0m \u001b[1;33m\u001b[0m\u001b[0m\n\u001b[0;32m      9\u001b[0m \u001b[1;31m#     score = np.mean(results[-500:])\u001b[0m\u001b[1;33m\u001b[0m\u001b[1;33m\u001b[0m\u001b[1;33m\u001b[0m\u001b[0m\n",
      "\u001b[1;32m<ipython-input-36-961d40209ef4>\u001b[0m in \u001b[0;36mevaluate_and_test\u001b[1;34m(params, trial_number, folder)\u001b[0m\n\u001b[0;32m     64\u001b[0m \u001b[1;33m\u001b[0m\u001b[0m\n\u001b[0;32m     65\u001b[0m                 \u001b[0mbatch\u001b[0m \u001b[1;33m=\u001b[0m \u001b[0mmemory\u001b[0m\u001b[1;33m.\u001b[0m\u001b[0msample\u001b[0m\u001b[1;33m(\u001b[0m\u001b[1;36m64\u001b[0m\u001b[1;33m)\u001b[0m\u001b[1;33m\u001b[0m\u001b[1;33m\u001b[0m\u001b[0m\n\u001b[1;32m---> 66\u001b[1;33m                 \u001b[0mloss\u001b[0m \u001b[1;33m=\u001b[0m \u001b[0mDoubleDQNet\u001b[0m\u001b[1;33m.\u001b[0m\u001b[0mtrain_model\u001b[0m\u001b[1;33m(\u001b[0m\u001b[0monline_net\u001b[0m\u001b[1;33m,\u001b[0m \u001b[0mtarget_net\u001b[0m\u001b[1;33m,\u001b[0m \u001b[0moptimizer\u001b[0m\u001b[1;33m,\u001b[0m \u001b[0mbatch\u001b[0m\u001b[1;33m,\u001b[0m\u001b[0mparams\u001b[0m\u001b[1;33m[\u001b[0m\u001b[1;36m1\u001b[0m\u001b[1;33m]\u001b[0m\u001b[1;33m)\u001b[0m\u001b[1;33m\u001b[0m\u001b[1;33m\u001b[0m\u001b[0m\n\u001b[0m\u001b[0;32m     67\u001b[0m                 \u001b[0mloss_arr\u001b[0m\u001b[1;33m.\u001b[0m\u001b[0mappend\u001b[0m\u001b[1;33m(\u001b[0m\u001b[0mloss\u001b[0m\u001b[1;33m)\u001b[0m\u001b[1;33m\u001b[0m\u001b[1;33m\u001b[0m\u001b[0m\n\u001b[0;32m     68\u001b[0m \u001b[1;33m\u001b[0m\u001b[0m\n",
      "\u001b[1;32m~\\Documents\\EE4002D\\Markov Code\\Bayesian Opt\\dqn_scripts.py\u001b[0m in \u001b[0;36mtrain_model\u001b[1;34m(cls, online_net, target_net, optimizer, batch, gamma)\u001b[0m\n\u001b[0;32m     81\u001b[0m         \u001b[0moptimizer\u001b[0m\u001b[1;33m.\u001b[0m\u001b[0mzero_grad\u001b[0m\u001b[1;33m(\u001b[0m\u001b[1;33m)\u001b[0m\u001b[1;33m\u001b[0m\u001b[1;33m\u001b[0m\u001b[0m\n\u001b[0;32m     82\u001b[0m         \u001b[0mloss\u001b[0m\u001b[1;33m.\u001b[0m\u001b[0mbackward\u001b[0m\u001b[1;33m(\u001b[0m\u001b[1;33m)\u001b[0m\u001b[1;33m\u001b[0m\u001b[1;33m\u001b[0m\u001b[0m\n\u001b[1;32m---> 83\u001b[1;33m         \u001b[0moptimizer\u001b[0m\u001b[1;33m.\u001b[0m\u001b[0mstep\u001b[0m\u001b[1;33m(\u001b[0m\u001b[1;33m)\u001b[0m\u001b[1;33m\u001b[0m\u001b[1;33m\u001b[0m\u001b[0m\n\u001b[0m\u001b[0;32m     84\u001b[0m \u001b[1;33m\u001b[0m\u001b[0m\n\u001b[0;32m     85\u001b[0m         \u001b[1;32mreturn\u001b[0m \u001b[0mloss\u001b[0m\u001b[1;33m\u001b[0m\u001b[1;33m\u001b[0m\u001b[0m\n",
      "\u001b[1;32m~\\anaconda3\\envs\\env1\\lib\\site-packages\\torch\\optim\\optimizer.py\u001b[0m in \u001b[0;36mwrapper\u001b[1;34m(*args, **kwargs)\u001b[0m\n\u001b[0;32m     86\u001b[0m                 \u001b[0mprofile_name\u001b[0m \u001b[1;33m=\u001b[0m \u001b[1;34m\"Optimizer.step#{}.step\"\u001b[0m\u001b[1;33m.\u001b[0m\u001b[0mformat\u001b[0m\u001b[1;33m(\u001b[0m\u001b[0mobj\u001b[0m\u001b[1;33m.\u001b[0m\u001b[0m__class__\u001b[0m\u001b[1;33m.\u001b[0m\u001b[0m__name__\u001b[0m\u001b[1;33m)\u001b[0m\u001b[1;33m\u001b[0m\u001b[1;33m\u001b[0m\u001b[0m\n\u001b[0;32m     87\u001b[0m                 \u001b[1;32mwith\u001b[0m \u001b[0mtorch\u001b[0m\u001b[1;33m.\u001b[0m\u001b[0mautograd\u001b[0m\u001b[1;33m.\u001b[0m\u001b[0mprofiler\u001b[0m\u001b[1;33m.\u001b[0m\u001b[0mrecord_function\u001b[0m\u001b[1;33m(\u001b[0m\u001b[0mprofile_name\u001b[0m\u001b[1;33m)\u001b[0m\u001b[1;33m:\u001b[0m\u001b[1;33m\u001b[0m\u001b[1;33m\u001b[0m\u001b[0m\n\u001b[1;32m---> 88\u001b[1;33m                     \u001b[1;32mreturn\u001b[0m \u001b[0mfunc\u001b[0m\u001b[1;33m(\u001b[0m\u001b[1;33m*\u001b[0m\u001b[0margs\u001b[0m\u001b[1;33m,\u001b[0m \u001b[1;33m**\u001b[0m\u001b[0mkwargs\u001b[0m\u001b[1;33m)\u001b[0m\u001b[1;33m\u001b[0m\u001b[1;33m\u001b[0m\u001b[0m\n\u001b[0m\u001b[0;32m     89\u001b[0m             \u001b[1;32mreturn\u001b[0m \u001b[0mwrapper\u001b[0m\u001b[1;33m\u001b[0m\u001b[1;33m\u001b[0m\u001b[0m\n\u001b[0;32m     90\u001b[0m \u001b[1;33m\u001b[0m\u001b[0m\n",
      "\u001b[1;32m~\\anaconda3\\envs\\env1\\lib\\site-packages\\torch\\autograd\\grad_mode.py\u001b[0m in \u001b[0;36mdecorate_context\u001b[1;34m(*args, **kwargs)\u001b[0m\n\u001b[0;32m     26\u001b[0m         \u001b[1;32mdef\u001b[0m \u001b[0mdecorate_context\u001b[0m\u001b[1;33m(\u001b[0m\u001b[1;33m*\u001b[0m\u001b[0margs\u001b[0m\u001b[1;33m,\u001b[0m \u001b[1;33m**\u001b[0m\u001b[0mkwargs\u001b[0m\u001b[1;33m)\u001b[0m\u001b[1;33m:\u001b[0m\u001b[1;33m\u001b[0m\u001b[1;33m\u001b[0m\u001b[0m\n\u001b[0;32m     27\u001b[0m             \u001b[1;32mwith\u001b[0m \u001b[0mself\u001b[0m\u001b[1;33m.\u001b[0m\u001b[0m__class__\u001b[0m\u001b[1;33m(\u001b[0m\u001b[1;33m)\u001b[0m\u001b[1;33m:\u001b[0m\u001b[1;33m\u001b[0m\u001b[1;33m\u001b[0m\u001b[0m\n\u001b[1;32m---> 28\u001b[1;33m                 \u001b[1;32mreturn\u001b[0m \u001b[0mfunc\u001b[0m\u001b[1;33m(\u001b[0m\u001b[1;33m*\u001b[0m\u001b[0margs\u001b[0m\u001b[1;33m,\u001b[0m \u001b[1;33m**\u001b[0m\u001b[0mkwargs\u001b[0m\u001b[1;33m)\u001b[0m\u001b[1;33m\u001b[0m\u001b[1;33m\u001b[0m\u001b[0m\n\u001b[0m\u001b[0;32m     29\u001b[0m         \u001b[1;32mreturn\u001b[0m \u001b[0mcast\u001b[0m\u001b[1;33m(\u001b[0m\u001b[0mF\u001b[0m\u001b[1;33m,\u001b[0m \u001b[0mdecorate_context\u001b[0m\u001b[1;33m)\u001b[0m\u001b[1;33m\u001b[0m\u001b[1;33m\u001b[0m\u001b[0m\n\u001b[0;32m     30\u001b[0m \u001b[1;33m\u001b[0m\u001b[0m\n",
      "\u001b[1;32m~\\anaconda3\\envs\\env1\\lib\\site-packages\\torch\\optim\\adam.py\u001b[0m in \u001b[0;36mstep\u001b[1;34m(self, closure)\u001b[0m\n\u001b[0;32m    131\u001b[0m                     \u001b[0mstate_steps\u001b[0m\u001b[1;33m.\u001b[0m\u001b[0mappend\u001b[0m\u001b[1;33m(\u001b[0m\u001b[0mstate\u001b[0m\u001b[1;33m[\u001b[0m\u001b[1;34m'step'\u001b[0m\u001b[1;33m]\u001b[0m\u001b[1;33m)\u001b[0m\u001b[1;33m\u001b[0m\u001b[1;33m\u001b[0m\u001b[0m\n\u001b[0;32m    132\u001b[0m \u001b[1;33m\u001b[0m\u001b[0m\n\u001b[1;32m--> 133\u001b[1;33m             F.adam(params_with_grad,\n\u001b[0m\u001b[0;32m    134\u001b[0m                    \u001b[0mgrads\u001b[0m\u001b[1;33m,\u001b[0m\u001b[1;33m\u001b[0m\u001b[1;33m\u001b[0m\u001b[0m\n\u001b[0;32m    135\u001b[0m                    \u001b[0mexp_avgs\u001b[0m\u001b[1;33m,\u001b[0m\u001b[1;33m\u001b[0m\u001b[1;33m\u001b[0m\u001b[0m\n",
      "\u001b[1;32m~\\anaconda3\\envs\\env1\\lib\\site-packages\\torch\\optim\\_functional.py\u001b[0m in \u001b[0;36madam\u001b[1;34m(params, grads, exp_avgs, exp_avg_sqs, max_exp_avg_sqs, state_steps, amsgrad, beta1, beta2, lr, weight_decay, eps)\u001b[0m\n\u001b[0;32m     92\u001b[0m             \u001b[0mdenom\u001b[0m \u001b[1;33m=\u001b[0m \u001b[1;33m(\u001b[0m\u001b[0mmax_exp_avg_sqs\u001b[0m\u001b[1;33m[\u001b[0m\u001b[0mi\u001b[0m\u001b[1;33m]\u001b[0m\u001b[1;33m.\u001b[0m\u001b[0msqrt\u001b[0m\u001b[1;33m(\u001b[0m\u001b[1;33m)\u001b[0m \u001b[1;33m/\u001b[0m \u001b[0mmath\u001b[0m\u001b[1;33m.\u001b[0m\u001b[0msqrt\u001b[0m\u001b[1;33m(\u001b[0m\u001b[0mbias_correction2\u001b[0m\u001b[1;33m)\u001b[0m\u001b[1;33m)\u001b[0m\u001b[1;33m.\u001b[0m\u001b[0madd_\u001b[0m\u001b[1;33m(\u001b[0m\u001b[0meps\u001b[0m\u001b[1;33m)\u001b[0m\u001b[1;33m\u001b[0m\u001b[1;33m\u001b[0m\u001b[0m\n\u001b[0;32m     93\u001b[0m         \u001b[1;32melse\u001b[0m\u001b[1;33m:\u001b[0m\u001b[1;33m\u001b[0m\u001b[1;33m\u001b[0m\u001b[0m\n\u001b[1;32m---> 94\u001b[1;33m             \u001b[0mdenom\u001b[0m \u001b[1;33m=\u001b[0m \u001b[1;33m(\u001b[0m\u001b[0mexp_avg_sq\u001b[0m\u001b[1;33m.\u001b[0m\u001b[0msqrt\u001b[0m\u001b[1;33m(\u001b[0m\u001b[1;33m)\u001b[0m \u001b[1;33m/\u001b[0m \u001b[0mmath\u001b[0m\u001b[1;33m.\u001b[0m\u001b[0msqrt\u001b[0m\u001b[1;33m(\u001b[0m\u001b[0mbias_correction2\u001b[0m\u001b[1;33m)\u001b[0m\u001b[1;33m)\u001b[0m\u001b[1;33m.\u001b[0m\u001b[0madd_\u001b[0m\u001b[1;33m(\u001b[0m\u001b[0meps\u001b[0m\u001b[1;33m)\u001b[0m\u001b[1;33m\u001b[0m\u001b[1;33m\u001b[0m\u001b[0m\n\u001b[0m\u001b[0;32m     95\u001b[0m \u001b[1;33m\u001b[0m\u001b[0m\n\u001b[0;32m     96\u001b[0m         \u001b[0mstep_size\u001b[0m \u001b[1;33m=\u001b[0m \u001b[0mlr\u001b[0m \u001b[1;33m/\u001b[0m \u001b[0mbias_correction1\u001b[0m\u001b[1;33m\u001b[0m\u001b[1;33m\u001b[0m\u001b[0m\n",
      "\u001b[1;31mKeyboardInterrupt\u001b[0m: "
     ]
    }
   ],
   "source": [
    "optimizer.maximize(n_iter = 20,  init_points=5, acq='ei',xi=0.005 )"
   ]
  },
  {
   "cell_type": "code",
   "execution_count": null,
   "metadata": {},
   "outputs": [],
   "source": [
    "utility = UtilityFunction(kind=\"ei\",kappa= 0,xi=0)"
   ]
  },
  {
   "cell_type": "code",
   "execution_count": null,
   "metadata": {},
   "outputs": [],
   "source": [
    "for _ in range(10):\n",
    "    next_point = optimizer.suggest(utility)\n",
    "    target = black_box_function(**next_point)\n",
    "    optimizer.register(params=next_point, target=target)\n",
    "    \n",
    "    print(target, next_point)\n",
    "print(optimizer.max)"
   ]
  },
  {
   "cell_type": "code",
   "execution_count": null,
   "metadata": {},
   "outputs": [],
   "source": [
    "print(optimizer.max)"
   ]
  },
  {
   "cell_type": "code",
   "execution_count": null,
   "metadata": {},
   "outputs": [],
   "source": [
    "for i, res in enumerate(optimizer.res):\n",
    "    print(\"Iteration {}: \\n\\t{}\".format(i, res))"
   ]
  },
  {
   "cell_type": "code",
   "execution_count": null,
   "metadata": {},
   "outputs": [],
   "source": [
    "optimizer.maximize(\n",
    "    init_points=2,\n",
    "    n_iter=3,\n",
    "    kernel = RBF(1.0)\n",
    ")"
   ]
  },
  {
   "cell_type": "code",
   "execution_count": null,
   "metadata": {},
   "outputs": [],
   "source": []
  }
 ],
 "metadata": {
  "kernelspec": {
   "display_name": "Python 3",
   "language": "python",
   "name": "python3"
  },
  "language_info": {
   "codemirror_mode": {
    "name": "ipython",
    "version": 3
   },
   "file_extension": ".py",
   "mimetype": "text/x-python",
   "name": "python",
   "nbconvert_exporter": "python",
   "pygments_lexer": "ipython3",
   "version": "3.8.5"
  }
 },
 "nbformat": 4,
 "nbformat_minor": 4
}
