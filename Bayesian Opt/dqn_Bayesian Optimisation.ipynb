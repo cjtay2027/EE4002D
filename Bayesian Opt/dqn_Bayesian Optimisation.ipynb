{
 "cells": [
  {
   "cell_type": "code",
   "execution_count": 1,
   "metadata": {},
   "outputs": [],
   "source": [
    "from bayes_opt import BayesianOptimization\n",
    "from bayes_opt import SequentialDomainReductionTransformer\n",
    "from bayes_opt import UtilityFunction\n",
    "from dqn_scripts import *\n",
    "from bayes_opt import SequentialDomainReductionTransformer\n",
    "from bayes_opt.util import load_logs"
   ]
  },
  {
   "cell_type": "code",
   "execution_count": 2,
   "metadata": {},
   "outputs": [],
   "source": [
    "trial = 0"
   ]
  },
  {
   "cell_type": "code",
   "execution_count": 3,
   "metadata": {},
   "outputs": [],
   "source": [
    "def evaluate_and_test(params,trial_number,folder): #trial function that trains and stores results into array\n",
    "    \n",
    "    max_episodes = 20000\n",
    "    \n",
    "    #Train Env\n",
    "    machine = Machine()\n",
    "    machine.curr_state = 0\n",
    "    env = MachineEnv(machine)\n",
    "\n",
    "    #Eval Env\n",
    "    machine2 = Machine()\n",
    "    machine2.curr_state = 0\n",
    "    env2 = MachineEnv(machine2)\n",
    "\n",
    "    online_net = DoubleDQNet(4, 2)\n",
    "    target_net = DoubleDQNet(4, 2)\n",
    "    update_target_model(online_net, target_net)\n",
    "    \n",
    "    optimizer = optim.Adam(online_net.parameters(), lr=params[0])\n",
    "    online_net.train()\n",
    "    target_net.train()\n",
    "    memory = Memory(10000)\n",
    "    \n",
    "    #start_time = datetime.now().replace(microsecond=0)\n",
    "\n",
    "    running_score = 0\n",
    "    epsilon = 1.0\n",
    "    steps = 0\n",
    "    loss = 0\n",
    "    initial_exploration = 1000\n",
    "    log_interval = 10\n",
    "    \n",
    "    tracker = [[0,0]]\n",
    "    loss_arr = []\n",
    "    max_average = 0\n",
    "    \n",
    "    for e in range(max_episodes):\n",
    "        done = False\n",
    "\n",
    "        score = 0\n",
    "        state = env.reset()\n",
    "        state = torch.Tensor(state)\n",
    "        state = state.unsqueeze(0)\n",
    "        while not done:\n",
    "            steps += 1\n",
    "            action = get_action(state, target_net, epsilon, env)\n",
    "            next_state, reward, done, _ = env.step(action)\n",
    "\n",
    "            next_state = torch.Tensor(next_state)\n",
    "            next_state = next_state.unsqueeze(0)\n",
    "\n",
    "            mask = 0 if done else 1\n",
    "            #reward = reward if not done or score == 499 else -1\n",
    "            action_one_hot = np.zeros(2)\n",
    "            action_one_hot[action] = 1\n",
    "            memory.push(state, next_state, action_one_hot, reward, mask)\n",
    "\n",
    "            score += reward\n",
    "            state = next_state\n",
    "\n",
    "            if steps > initial_exploration:\n",
    "                epsilon -= params[2]\n",
    "                epsilon = max(epsilon, 0.1)\n",
    "\n",
    "                batch = memory.sample(64)\n",
    "                loss = DoubleDQNet.train_model(online_net, target_net, optimizer, batch,params[1])\n",
    "                loss_arr.append(loss)\n",
    "                \n",
    "                if steps % params[3] == 0:\n",
    "                    update_target_model(online_net, target_net)\n",
    "\n",
    "        if e % log_interval == 0:\n",
    "            if e == 0: continue\n",
    "            eval_score = compute_avg_return(env2,online_net,20)\n",
    "##            print('{} episode | Ave val score over 20 ep: {:.2f} | epsilon: {:.2f}'.format(\n",
    "##                e, eval_score, epsilon))\n",
    "            tracker.append([eval_score,e])\n",
    "            \n",
    "            move_ave_score = np.mean(np.array(tracker)[-50:,0])\n",
    "##            if max_average < move_ave_score:\n",
    "##                torch.save(online_net,f'{folder}/trial_{trial_number}_dqn_agent_.pt')\n",
    "##                max_average = move_ave_score\n",
    "\n",
    "##    np.savetxt(f'{folder}/trial_{trial_number}_loss.txt', loss_arr, delimiter=',',fmt='%s')\n",
    "##    np.savetxt(f'{folder}/trial_{trial_number}.txt', tracker, delimiter=',',fmt='%s')\n",
    "##    torch.save(online_net,f'{folder}/final_trial_{trial_number}_dqn_agent.pt')\n",
    "    \n",
    "    return (np.array(tracker),online_net)"
   ]
  },
  {
   "cell_type": "code",
   "execution_count": 5,
   "metadata": {},
   "outputs": [],
   "source": [
    "def black_box_function(lr,gamma,eps_decay,update_freq):\n",
    "    global trial\n",
    "    trial+=1\n",
    "    \n",
    "    params = [lr,gamma,eps_decay,update_freq]\n",
    "    \n",
    "    results,policy = evaluate_and_test(params,trial,None)\n",
    "    \n",
    "#     score = np.mean(results[-500:])\n",
    "    \n",
    "    machine = Machine()\n",
    "    machine.curr_state = 0\n",
    "    env = MachineEnv(machine)\n",
    "    \n",
    "    score = compute_avg_return(env, policy, 10)\n",
    "    \n",
    "    return score"
   ]
  },
  {
   "cell_type": "code",
   "execution_count": 6,
   "metadata": {},
   "outputs": [],
   "source": [
    "optimizer = BayesianOptimization(\n",
    "    f = black_box_function,\n",
    "    pbounds = {'lr':(1e-05,1e-01),'gamma':(0.8,0.99),'eps_decay':(1e-05,1e-01),'update_freq':(20,200)},\n",
    "    verbose = 2,\n",
    ")\n"
   ]
  },
  {
   "cell_type": "markdown",
   "metadata": {},
   "source": [
    "df = pd.read_csv('results.csv')\n",
    "df.drop('Unnamed: 0',axis = 1,inplace=True)\n",
    "print(df)\n",
    "df_arr = df.to_numpy()\n",
    "df_arr"
   ]
  },
  {
   "cell_type": "code",
   "execution_count": 21,
   "metadata": {},
   "outputs": [],
   "source": [
    "from bayes_opt.logger import JSONLogger\n",
    "from bayes_opt.event import Events\n",
    "logger = JSONLogger(path=\"./logs.json\")\n",
    "optimizer.subscribe(Events.OPTIMIZATION_STEP, logger)"
   ]
  },
  {
   "cell_type": "code",
   "execution_count": 10,
   "metadata": {},
   "outputs": [
    {
     "data": {
      "text/plain": [
       "<bayes_opt.bayesian_optimization.BayesianOptimization at 0x216dfeec0a0>"
      ]
     },
     "execution_count": 10,
     "metadata": {},
     "output_type": "execute_result"
    }
   ],
   "source": [
    "load_logs(optimizer, logs=[\"./logs.json\"])"
   ]
  },
  {
   "cell_type": "code",
   "execution_count": 11,
   "metadata": {},
   "outputs": [
    {
     "name": "stdout",
     "output_type": "stream",
     "text": [
      "19\n"
     ]
    }
   ],
   "source": [
    "print(len(optimizer.space))"
   ]
  },
  {
   "cell_type": "code",
   "execution_count": 22,
   "metadata": {},
   "outputs": [
    {
     "name": "stdout",
     "output_type": "stream",
     "text": [
      "| \u001b[95m 5       \u001b[0m | \u001b[95m 8.514e+0\u001b[0m | \u001b[95m 1e-05   \u001b[0m | \u001b[95m 0.8     \u001b[0m | \u001b[95m 0.0001  \u001b[0m | \u001b[95m 50.0    \u001b[0m |\n",
      "| \u001b[95m 6       \u001b[0m | \u001b[95m 1.007e+0\u001b[0m | \u001b[95m 0.0001  \u001b[0m | \u001b[95m 0.9     \u001b[0m | \u001b[95m 0.0001  \u001b[0m | \u001b[95m 100.0   \u001b[0m |\n",
      "| \u001b[95m 7       \u001b[0m | \u001b[95m 2.663e+0\u001b[0m | \u001b[95m 0.001   \u001b[0m | \u001b[95m 0.95    \u001b[0m | \u001b[95m 0.0001  \u001b[0m | \u001b[95m 150.0   \u001b[0m |\n",
      "| \u001b[0m 8       \u001b[0m | \u001b[0m 2.054e+0\u001b[0m | \u001b[0m 0.01    \u001b[0m | \u001b[0m 0.99    \u001b[0m | \u001b[0m 0.0001  \u001b[0m | \u001b[0m 200.0   \u001b[0m |\n",
      "| \u001b[0m 9       \u001b[0m | \u001b[0m 9.65e+03\u001b[0m | \u001b[0m 0.0001  \u001b[0m | \u001b[0m 0.8     \u001b[0m | \u001b[0m 0.001   \u001b[0m | \u001b[0m 150.0   \u001b[0m |\n",
      "| \u001b[0m 10      \u001b[0m | \u001b[0m 1.222e+0\u001b[0m | \u001b[0m 1e-05   \u001b[0m | \u001b[0m 0.9     \u001b[0m | \u001b[0m 0.001   \u001b[0m | \u001b[0m 200.0   \u001b[0m |\n",
      "| \u001b[0m 11      \u001b[0m | \u001b[0m 1.09e+04\u001b[0m | \u001b[0m 0.01    \u001b[0m | \u001b[0m 0.95    \u001b[0m | \u001b[0m 0.001   \u001b[0m | \u001b[0m 50.0    \u001b[0m |\n",
      "| \u001b[0m 12      \u001b[0m | \u001b[0m 2.267e+0\u001b[0m | \u001b[0m 0.001   \u001b[0m | \u001b[0m 0.99    \u001b[0m | \u001b[0m 0.001   \u001b[0m | \u001b[0m 100.0   \u001b[0m |\n",
      "| \u001b[0m 13      \u001b[0m | \u001b[0m 9.953e+0\u001b[0m | \u001b[0m 0.001   \u001b[0m | \u001b[0m 0.8     \u001b[0m | \u001b[0m 0.01    \u001b[0m | \u001b[0m 200.0   \u001b[0m |\n",
      "| \u001b[0m 14      \u001b[0m | \u001b[0m 1.669e+0\u001b[0m | \u001b[0m 0.01    \u001b[0m | \u001b[0m 0.9     \u001b[0m | \u001b[0m 0.01    \u001b[0m | \u001b[0m 150.0   \u001b[0m |\n",
      "| \u001b[0m 15      \u001b[0m | \u001b[0m 1.276e+0\u001b[0m | \u001b[0m 1e-05   \u001b[0m | \u001b[0m 0.95    \u001b[0m | \u001b[0m 0.01    \u001b[0m | \u001b[0m 100.0   \u001b[0m |\n",
      "| \u001b[0m 16      \u001b[0m | \u001b[0m 2.501e+0\u001b[0m | \u001b[0m 0.0001  \u001b[0m | \u001b[0m 0.99    \u001b[0m | \u001b[0m 0.01    \u001b[0m | \u001b[0m 50.0    \u001b[0m |\n",
      "| \u001b[0m 17      \u001b[0m | \u001b[0m 1.045e+0\u001b[0m | \u001b[0m 0.01    \u001b[0m | \u001b[0m 0.8     \u001b[0m | \u001b[0m 0.1     \u001b[0m | \u001b[0m 100.0   \u001b[0m |\n",
      "| \u001b[0m 18      \u001b[0m | \u001b[0m 1.855e+0\u001b[0m | \u001b[0m 0.001   \u001b[0m | \u001b[0m 0.9     \u001b[0m | \u001b[0m 0.1     \u001b[0m | \u001b[0m 50.0    \u001b[0m |\n",
      "| \u001b[0m 19      \u001b[0m | \u001b[0m 2.381e+0\u001b[0m | \u001b[0m 0.0001  \u001b[0m | \u001b[0m 0.95    \u001b[0m | \u001b[0m 0.1     \u001b[0m | \u001b[0m 200.0   \u001b[0m |\n",
      "| \u001b[0m 20      \u001b[0m | \u001b[0m 2.618e+0\u001b[0m | \u001b[0m 1e-05   \u001b[0m | \u001b[0m 0.99    \u001b[0m | \u001b[0m 0.1     \u001b[0m | \u001b[0m 150.0   \u001b[0m |\n"
     ]
    }
   ],
   "source": [
    "for row in df_arr:\n",
    "    next_point_to_probe = {'lr':row[0],'gamma':row[1],'eps_decay':row[2],'update_freq':row[3]}\n",
    "    target = row[7]\n",
    "    optimizer.register(\n",
    "     params=next_point_to_probe,\n",
    "     target=target,\n",
    "    )"
   ]
  },
  {
   "cell_type": "code",
   "execution_count": null,
   "metadata": {},
   "outputs": [
    {
     "name": "stdout",
     "output_type": "stream",
     "text": [
      "|   iter    |  target   | eps_decay |   gamma   |    lr     | update... |\n",
      "-------------------------------------------------------------------------\n",
      "| \u001b[0m 1       \u001b[0m | \u001b[0m 5.66e+03\u001b[0m | \u001b[0m 0.07609 \u001b[0m | \u001b[0m 0.9565  \u001b[0m | \u001b[0m 0.03884 \u001b[0m | \u001b[0m 74.66   \u001b[0m |\n"
     ]
    }
   ],
   "source": [
    "optimizer.maximize(n_iter = 10,  init_points=1, acq='ei',xi=0.005 )"
   ]
  },
  {
   "cell_type": "code",
   "execution_count": 24,
   "metadata": {},
   "outputs": [
    {
     "data": {
      "text/plain": [
       "{(0.09498021212209119,\n",
       "  0.9377418778689102,\n",
       "  0.07405646573726266,\n",
       "  113.87312349042722): 5090.0,\n",
       " (0.08892742375350779,\n",
       "  0.9050880308439506,\n",
       "  0.05214285822278951,\n",
       "  65.62488309842142): 2900.0,\n",
       " (0.034679306930964326,\n",
       "  0.9300213042969555,\n",
       "  0.055580584503608345,\n",
       "  147.95783923378883): 8100.0,\n",
       " (0.02485776517901666,\n",
       "  0.9077122605776904,\n",
       "  0.07337076430335206,\n",
       "  143.25063680580405): 4870.0,\n",
       " (1e-05, 0.8, 0.0001, 50.0): 8513.833333333334,\n",
       " (0.0001, 0.9, 0.0001, 100.0): 10067.213333333333,\n",
       " (0.001, 0.95, 0.0001, 150.0): 26630.37666666667,\n",
       " (0.01, 0.99, 0.0001, 200.0): 20541.68333333333,\n",
       " (0.0001, 0.8, 0.001, 150.0): 9649.66,\n",
       " (1e-05, 0.9, 0.001, 200.0): 12220.116666666667,\n",
       " (0.01, 0.95, 0.001, 50.0): 10904.936666666666,\n",
       " (0.001, 0.99, 0.001, 100.0): 22671.50666666667,\n",
       " (0.001, 0.8, 0.01, 200.0): 9953.073333333334,\n",
       " (0.01, 0.9, 0.01, 150.0): 16688.756666666668,\n",
       " (1e-05, 0.95, 0.01, 100.0): 12763.71,\n",
       " (0.0001, 0.99, 0.01, 50.0): 25010.763333333336,\n",
       " (0.01, 0.8, 0.1, 100.0): 10454.57,\n",
       " (0.001, 0.9, 0.1, 50.0): 18546.126666666667,\n",
       " (0.0001, 0.95, 0.1, 200.0): 23807.153333333332,\n",
       " (1e-05, 0.99, 0.1, 150.0): 26176.456666666665,\n",
       " (0.016773563687821177,\n",
       "  0.9533960452642837,\n",
       "  0.020360319741283828,\n",
       "  159.94874401294265): 3080.0,\n",
       " (0.08468599496832066,\n",
       "  0.9180811217953551,\n",
       "  0.0031495461459860397,\n",
       "  23.324871650494295): 6670.0,\n",
       " (0.022458236294600625,\n",
       "  0.9652844975465154,\n",
       "  0.008334217032840515,\n",
       "  121.15301095378538): 5520.0}"
      ]
     },
     "execution_count": 24,
     "metadata": {},
     "output_type": "execute_result"
    }
   ],
   "source": [
    "optimizer._space._cache"
   ]
  },
  {
   "cell_type": "code",
   "execution_count": null,
   "metadata": {},
   "outputs": [],
   "source": [
    "utility = UtilityFunction(kind=\"ei\",kappa= 0,xi=0)"
   ]
  },
  {
   "cell_type": "code",
   "execution_count": null,
   "metadata": {},
   "outputs": [],
   "source": [
    "for _ in range(10):\n",
    "    next_point = optimizer.suggest(utility)\n",
    "    target = black_box_function(**next_point)\n",
    "    optimizer.register(params=next_point, target=target)\n",
    "    \n",
    "    print(target, next_point)\n",
    "print(optimizer.max)"
   ]
  },
  {
   "cell_type": "code",
   "execution_count": null,
   "metadata": {},
   "outputs": [],
   "source": [
    "print(optimizer.max)"
   ]
  },
  {
   "cell_type": "code",
   "execution_count": null,
   "metadata": {},
   "outputs": [],
   "source": [
    "for i, res in enumerate(optimizer.res):\n",
    "    print(\"Iteration {}: \\n\\t{}\".format(i, res))"
   ]
  },
  {
   "cell_type": "code",
   "execution_count": null,
   "metadata": {},
   "outputs": [],
   "source": [
    "optimizer.maximize(\n",
    "    init_points=2,\n",
    "    n_iter=3,\n",
    "    kernel = RBF(1.0)\n",
    ")"
   ]
  },
  {
   "cell_type": "code",
   "execution_count": null,
   "metadata": {},
   "outputs": [],
   "source": []
  }
 ],
 "metadata": {
  "kernelspec": {
   "display_name": "Python 3",
   "language": "python",
   "name": "python3"
  },
  "language_info": {
   "codemirror_mode": {
    "name": "ipython",
    "version": 3
   },
   "file_extension": ".py",
   "mimetype": "text/x-python",
   "name": "python",
   "nbconvert_exporter": "python",
   "pygments_lexer": "ipython3",
   "version": "3.8.5"
  }
 },
 "nbformat": 4,
 "nbformat_minor": 4
}
